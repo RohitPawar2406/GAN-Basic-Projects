{
 "cells": [
  {
   "cell_type": "markdown",
   "id": "410a7163",
   "metadata": {},
   "source": [
    "# Importing Libs"
   ]
  },
  {
   "cell_type": "code",
   "execution_count": 1,
   "id": "06cb8654",
   "metadata": {},
   "outputs": [],
   "source": [
    "import torch \n",
    "from torch import nn\n",
    "from torch.utils.data import DataLoader\n",
    "from torch import optim\n",
    "from torchvision import transforms, datasets\n",
    "import torchvision\n",
    "\n",
    "from torch.utils.tensorboard import SummaryWriter\n",
    "import comet_ml\n",
    "from comet_ml import Experiment"
   ]
  },
  {
   "cell_type": "code",
   "execution_count": 2,
   "id": "a53c58e1",
   "metadata": {},
   "outputs": [
    {
     "data": {
      "text/plain": [
       "('1.13.0+cu116', True)"
      ]
     },
     "execution_count": 2,
     "metadata": {},
     "output_type": "execute_result"
    }
   ],
   "source": [
    "torch.__version__, torch.cuda.is_available()"
   ]
  },
  {
   "cell_type": "code",
   "execution_count": 3,
   "id": "cabdd1a6",
   "metadata": {},
   "outputs": [],
   "source": [
    "# Comet Initialisation \n",
    "#comet_ml.init(project_name=\"DCGAN\")"
   ]
  },
  {
   "cell_type": "code",
   "execution_count": 4,
   "id": "5befcdf1",
   "metadata": {},
   "outputs": [
    {
     "name": "stderr",
     "output_type": "stream",
     "text": [
      "COMET WARNING: Comet has disabled auto-logging functionality as it has been imported after the following ML modules: torch, tensorboard. Metrics and hyperparameters can still be logged using Experiment.log_metrics() and Experiment.log_parameters()\n",
      "COMET WARNING: As you are running in a Jupyter environment, you will need to call `experiment.end()` when finished to ensure all metrics and code are logged before exiting.\n",
      "COMET INFO: Experiment is live on comet.com https://www.comet.com/rohitpawar2406/dcgan/55f2774d575b425dbde39a4698c5a769\n",
      "\n"
     ]
    }
   ],
   "source": [
    "experiment = comet_ml.Experiment(\n",
    "    api_key=\"w8mmQk2vAHgMuQwj1xR1tRHns\",\n",
    "    project_name=\"DCGAN\"\n",
    ")"
   ]
  },
  {
   "cell_type": "code",
   "execution_count": 5,
   "id": "4fbe4073",
   "metadata": {},
   "outputs": [],
   "source": [
    "# Parameters\n",
    "# these will all get logged\n",
    "params = {\n",
    "    \"batch_size\": 32,\n",
    "    \"epochs\": 4,\n",
    "    \"optimizer\": 'adam',\n",
    "    \"lr\" : 0.0002,\n",
    "    \"image_size\" : 64,\n",
    "    \"channels_noise\" : 256,\n",
    "    \"featuresDiscriminator\" : 16,  # original paper 64 but for MNIST its 16 okay for me!!\n",
    "    \"featureGenerator\" : 16         # original paper 64 but for MNIST its 16 okay for me!!\n",
    "}\n",
    "device = \"cuda\" if torch.cuda.is_available() else \"cpu\"\n",
    "experiment.log_parameters(params)\n"
   ]
  },
  {
   "cell_type": "code",
   "execution_count": 6,
   "id": "4e647180",
   "metadata": {},
   "outputs": [],
   "source": [
    "#experiment.log_code(file_name=\"DCGAN.ipynb\")"
   ]
  },
  {
   "attachments": {},
   "cell_type": "markdown",
   "id": "2b30924e",
   "metadata": {},
   "source": [
    "# Class Discriminator"
   ]
  },
  {
   "cell_type": "code",
   "execution_count": 7,
   "id": "868dcafa",
   "metadata": {},
   "outputs": [],
   "source": [
    "class Discriminator(nn.Module):\n",
    "    def __init__(self, channels_img, features) -> None:\n",
    "        super(Discriminator, self).__init__();\n",
    "        # Input data -> N x channels_size x 64 x 64 \n",
    "        self.net = nn.Sequential(\n",
    "            nn.Conv2d(channels_img, features, kernel_size=4, stride=2, padding=1), \n",
    "            nn.LeakyReLU(0.2),\n",
    "            # output -> N x features x 32 x 32\n",
    "\n",
    "            nn.Conv2d(features, features*2, kernel_size=4, stride=2, padding=1),\n",
    "            nn.BatchNorm2d(features*2),\n",
    "            nn.LeakyReLU(0.2),\n",
    "            # output -> N x features*2 x 16 x 16\n",
    "\n",
    "            nn.Conv2d(features*2, features*4, kernel_size=4, stride=2, padding=1),\n",
    "            nn.BatchNorm2d(features*4),\n",
    "            nn.LeakyReLU(0.2),\n",
    "            # output -> N x features*4 x 8 x 8 \n",
    "\n",
    "            nn.Conv2d(features*4, features*8, kernel_size=4, stride=2, padding=1),\n",
    "            nn.BatchNorm2d(features*8),\n",
    "            nn.LeakyReLU(0.2),\n",
    "            # output -> N x features*8 x 4 x 4\n",
    "\n",
    "            nn.Conv2d(features*8, 1, kernel_size=4, stride=1, padding=0),\n",
    "            nn.Sigmoid()\n",
    "         )\n",
    "    \n",
    "    def forward(self, x):\n",
    "        return self.net(x)"
   ]
  },
  {
   "attachments": {},
   "cell_type": "markdown",
   "id": "c70a3958",
   "metadata": {},
   "source": [
    "# Class Generator"
   ]
  },
  {
   "cell_type": "code",
   "execution_count": 8,
   "id": "cc50d06e",
   "metadata": {},
   "outputs": [],
   "source": [
    "class Generator(nn.Module):\n",
    "    def __init__(self, channels_noise:int, channels_img:int, features:int) -> None:\n",
    "        super(Generator, self).__init__();\n",
    "\n",
    "        self.gen = nn.Sequential(\n",
    "            # Input -> N x channel_noise x 1 x 1\n",
    "\n",
    "            nn.ConvTranspose2d(channels_noise, features*16, kernel_size=4, stride=1, padding=0), # Output -> N x features*16 x 4 x 4\n",
    "            nn.BatchNorm2d(features*16),\n",
    "            nn.LeakyReLU(),\n",
    "\n",
    "            nn.ConvTranspose2d(features*16, features*8, kernel_size=4, stride=2, padding=1), # Output -> N x features*8 x 8 x 8\n",
    "            nn.BatchNorm2d(features*8),\n",
    "            nn.LeakyReLU(),\n",
    "\n",
    "            nn.ConvTranspose2d(features*8, features*4, kernel_size=4, stride=2, padding=1), # Output -> N x features*4 x 16 x 16\n",
    "            nn.BatchNorm2d(features*4),\n",
    "            nn.LeakyReLU(),\n",
    "\n",
    "            nn.ConvTranspose2d(features*4, features*2, kernel_size=4, stride=2, padding=1), # Output -> N x features*2 x 32 x 32\n",
    "            nn.BatchNorm2d(features*2),\n",
    "            nn.LeakyReLU(),\n",
    "\n",
    "            nn.ConvTranspose2d(features*2, channels_img, kernel_size=4, stride=2, padding=1), # Output -> N x channels_img (3 or 1) x 32 x 32\n",
    "            nn.Tanh()\n",
    "    )\n",
    "    \n",
    "    def forward(self, x):\n",
    "        return self.gen(x)"
   ]
  },
  {
   "cell_type": "code",
   "execution_count": 9,
   "id": "3a178894",
   "metadata": {},
   "outputs": [],
   "source": [
    "# j = Generator(100, 1 , 64)\n",
    "# j1 = j(torch.randn(32,100,1,1))\n",
    "# j1.shape"
   ]
  },
  {
   "cell_type": "code",
   "execution_count": 10,
   "id": "e5255a3b",
   "metadata": {},
   "outputs": [],
   "source": [
    "# Transforms\n",
    "transforms = transforms.Compose([\n",
    "    transforms.Resize(params['image_size']),\n",
    "    transforms.ToTensor(),\n",
    "    transforms.Normalize((0.5), (0.5))\n",
    "])"
   ]
  },
  {
   "attachments": {},
   "cell_type": "markdown",
   "id": "9ef10490",
   "metadata": {},
   "source": [
    "# Dataset and DataLoader Class"
   ]
  },
  {
   "cell_type": "code",
   "execution_count": 11,
   "id": "25ca6fc7",
   "metadata": {},
   "outputs": [],
   "source": [
    "dataset = datasets.MNIST(root='dataset/', train=True, transform=transforms, download=False)\n",
    "dataloader = DataLoader(dataset, batch_size=params['batch_size'], shuffle=True)"
   ]
  },
  {
   "cell_type": "code",
   "execution_count": 12,
   "id": "069d97bd",
   "metadata": {},
   "outputs": [],
   "source": [
    "# for i,(j,k) in enumerate(dataloader):\n",
    "#     print(j.shape)"
   ]
  },
  {
   "attachments": {},
   "cell_type": "markdown",
   "id": "8866a1c5",
   "metadata": {},
   "source": [
    "# Object of Class Generator and Discriminator"
   ]
  },
  {
   "cell_type": "code",
   "execution_count": 13,
   "id": "df2b289e",
   "metadata": {},
   "outputs": [],
   "source": [
    "disc = Discriminator(1, params['featuresDiscriminator']).to(device)\n",
    "gen = Generator(params[\"channels_noise\"], 1, params['featureGenerator']).to(device)"
   ]
  },
  {
   "attachments": {},
   "cell_type": "markdown",
   "id": "59c4310b",
   "metadata": {},
   "source": [
    "# Setting Up Optimisers and Loss Function"
   ]
  },
  {
   "cell_type": "code",
   "execution_count": 14,
   "id": "8a8d118f",
   "metadata": {},
   "outputs": [],
   "source": [
    "optmDisc = optim.Adam(disc.parameters(), lr=params['lr'], betas=(0.5,0.999))\n",
    "optmGen = optim.Adam(gen.parameters(), lr=params['lr'], betas=(0.5,0.999))\n",
    "\n",
    "# Loss Functions\n",
    "criterion = nn.BCELoss()\n",
    "\n",
    "real_label = 1 \n",
    "fake_label = 0\n",
    "\n",
    "fixed_noise = torch.randn(64, params['channels_noise'], 1,1).to(device)"
   ]
  },
  {
   "attachments": {},
   "cell_type": "markdown",
   "id": "86f8295c",
   "metadata": {},
   "source": [
    "# Training Loop"
   ]
  },
  {
   "cell_type": "code",
   "execution_count": 15,
   "id": "01ad4363",
   "metadata": {},
   "outputs": [
    {
     "name": "stdout",
     "output_type": "stream",
     "text": [
      "Started training!!!\n"
     ]
    },
    {
     "ename": "KeyboardInterrupt",
     "evalue": "",
     "output_type": "error",
     "traceback": [
      "\u001b[1;31m---------------------------------------------------------------------------\u001b[0m",
      "\u001b[1;31mKeyboardInterrupt\u001b[0m                         Traceback (most recent call last)",
      "\u001b[1;32m~\\AppData\\Local\\Temp\\ipykernel_24948\\3182132564.py\u001b[0m in \u001b[0;36m<cell line: 2>\u001b[1;34m()\u001b[0m\n\u001b[0;32m     35\u001b[0m         \u001b[1;32mwith\u001b[0m \u001b[0mtorch\u001b[0m\u001b[1;33m.\u001b[0m\u001b[0mno_grad\u001b[0m\u001b[1;33m(\u001b[0m\u001b[1;33m)\u001b[0m\u001b[1;33m:\u001b[0m\u001b[1;33m\u001b[0m\u001b[1;33m\u001b[0m\u001b[0m\n\u001b[0;32m     36\u001b[0m             \u001b[0mfake\u001b[0m \u001b[1;33m=\u001b[0m \u001b[0mgen\u001b[0m\u001b[1;33m(\u001b[0m\u001b[0mfixed_noise\u001b[0m\u001b[1;33m)\u001b[0m\u001b[1;33m\u001b[0m\u001b[1;33m\u001b[0m\u001b[0m\n\u001b[1;32m---> 37\u001b[1;33m             \u001b[0mimgGridReal\u001b[0m \u001b[1;33m=\u001b[0m \u001b[0mtorchvision\u001b[0m\u001b[1;33m.\u001b[0m\u001b[0mutils\u001b[0m\u001b[1;33m.\u001b[0m\u001b[0mmake_grid\u001b[0m\u001b[1;33m(\u001b[0m\u001b[0mdata\u001b[0m\u001b[1;33m[\u001b[0m\u001b[1;33m:\u001b[0m\u001b[1;36m32\u001b[0m\u001b[1;33m]\u001b[0m\u001b[1;33m,\u001b[0m \u001b[0mnormalize\u001b[0m\u001b[1;33m=\u001b[0m\u001b[1;32mTrue\u001b[0m\u001b[1;33m)\u001b[0m\u001b[1;33m\u001b[0m\u001b[1;33m\u001b[0m\u001b[0m\n\u001b[0m\u001b[0;32m     38\u001b[0m             \u001b[0mimgGridFake\u001b[0m \u001b[1;33m=\u001b[0m \u001b[0mtorchvision\u001b[0m\u001b[1;33m.\u001b[0m\u001b[0mutils\u001b[0m\u001b[1;33m.\u001b[0m\u001b[0mmake_grid\u001b[0m\u001b[1;33m(\u001b[0m\u001b[0mfake\u001b[0m\u001b[1;33m[\u001b[0m\u001b[1;33m:\u001b[0m\u001b[1;36m32\u001b[0m\u001b[1;33m]\u001b[0m\u001b[1;33m,\u001b[0m \u001b[0mnormalize\u001b[0m\u001b[1;33m=\u001b[0m\u001b[1;32mTrue\u001b[0m\u001b[1;33m)\u001b[0m\u001b[1;33m\u001b[0m\u001b[1;33m\u001b[0m\u001b[0m\n\u001b[0;32m     39\u001b[0m \u001b[1;33m\u001b[0m\u001b[0m\n",
      "\u001b[1;32mc:\\Users\\Rohit\\Anaconda3\\envs\\nlp\\lib\\site-packages\\torch\\autograd\\grad_mode.py\u001b[0m in \u001b[0;36mdecorate_context\u001b[1;34m(*args, **kwargs)\u001b[0m\n\u001b[0;32m     25\u001b[0m         \u001b[1;32mdef\u001b[0m \u001b[0mdecorate_context\u001b[0m\u001b[1;33m(\u001b[0m\u001b[1;33m*\u001b[0m\u001b[0margs\u001b[0m\u001b[1;33m,\u001b[0m \u001b[1;33m**\u001b[0m\u001b[0mkwargs\u001b[0m\u001b[1;33m)\u001b[0m\u001b[1;33m:\u001b[0m\u001b[1;33m\u001b[0m\u001b[1;33m\u001b[0m\u001b[0m\n\u001b[0;32m     26\u001b[0m             \u001b[1;32mwith\u001b[0m \u001b[0mself\u001b[0m\u001b[1;33m.\u001b[0m\u001b[0mclone\u001b[0m\u001b[1;33m(\u001b[0m\u001b[1;33m)\u001b[0m\u001b[1;33m:\u001b[0m\u001b[1;33m\u001b[0m\u001b[1;33m\u001b[0m\u001b[0m\n\u001b[1;32m---> 27\u001b[1;33m                 \u001b[1;32mreturn\u001b[0m \u001b[0mfunc\u001b[0m\u001b[1;33m(\u001b[0m\u001b[1;33m*\u001b[0m\u001b[0margs\u001b[0m\u001b[1;33m,\u001b[0m \u001b[1;33m**\u001b[0m\u001b[0mkwargs\u001b[0m\u001b[1;33m)\u001b[0m\u001b[1;33m\u001b[0m\u001b[1;33m\u001b[0m\u001b[0m\n\u001b[0m\u001b[0;32m     28\u001b[0m         \u001b[1;32mreturn\u001b[0m \u001b[0mcast\u001b[0m\u001b[1;33m(\u001b[0m\u001b[0mF\u001b[0m\u001b[1;33m,\u001b[0m \u001b[0mdecorate_context\u001b[0m\u001b[1;33m)\u001b[0m\u001b[1;33m\u001b[0m\u001b[1;33m\u001b[0m\u001b[0m\n\u001b[0;32m     29\u001b[0m \u001b[1;33m\u001b[0m\u001b[0m\n",
      "\u001b[1;32mc:\\Users\\Rohit\\Anaconda3\\envs\\nlp\\lib\\site-packages\\torchvision\\utils.py\u001b[0m in \u001b[0;36mmake_grid\u001b[1;34m(tensor, nrow, padding, normalize, value_range, scale_each, pad_value, **kwargs)\u001b[0m\n\u001b[0;32m     96\u001b[0m                 \u001b[0mnorm_range\u001b[0m\u001b[1;33m(\u001b[0m\u001b[0mt\u001b[0m\u001b[1;33m,\u001b[0m \u001b[0mvalue_range\u001b[0m\u001b[1;33m)\u001b[0m\u001b[1;33m\u001b[0m\u001b[1;33m\u001b[0m\u001b[0m\n\u001b[0;32m     97\u001b[0m         \u001b[1;32melse\u001b[0m\u001b[1;33m:\u001b[0m\u001b[1;33m\u001b[0m\u001b[1;33m\u001b[0m\u001b[0m\n\u001b[1;32m---> 98\u001b[1;33m             \u001b[0mnorm_range\u001b[0m\u001b[1;33m(\u001b[0m\u001b[0mtensor\u001b[0m\u001b[1;33m,\u001b[0m \u001b[0mvalue_range\u001b[0m\u001b[1;33m)\u001b[0m\u001b[1;33m\u001b[0m\u001b[1;33m\u001b[0m\u001b[0m\n\u001b[0m\u001b[0;32m     99\u001b[0m \u001b[1;33m\u001b[0m\u001b[0m\n\u001b[0;32m    100\u001b[0m     \u001b[1;32mif\u001b[0m \u001b[1;32mnot\u001b[0m \u001b[0misinstance\u001b[0m\u001b[1;33m(\u001b[0m\u001b[0mtensor\u001b[0m\u001b[1;33m,\u001b[0m \u001b[0mtorch\u001b[0m\u001b[1;33m.\u001b[0m\u001b[0mTensor\u001b[0m\u001b[1;33m)\u001b[0m\u001b[1;33m:\u001b[0m\u001b[1;33m\u001b[0m\u001b[1;33m\u001b[0m\u001b[0m\n",
      "\u001b[1;32mc:\\Users\\Rohit\\Anaconda3\\envs\\nlp\\lib\\site-packages\\torchvision\\utils.py\u001b[0m in \u001b[0;36mnorm_range\u001b[1;34m(t, value_range)\u001b[0m\n\u001b[0;32m     90\u001b[0m                 \u001b[0mnorm_ip\u001b[0m\u001b[1;33m(\u001b[0m\u001b[0mt\u001b[0m\u001b[1;33m,\u001b[0m \u001b[0mvalue_range\u001b[0m\u001b[1;33m[\u001b[0m\u001b[1;36m0\u001b[0m\u001b[1;33m]\u001b[0m\u001b[1;33m,\u001b[0m \u001b[0mvalue_range\u001b[0m\u001b[1;33m[\u001b[0m\u001b[1;36m1\u001b[0m\u001b[1;33m]\u001b[0m\u001b[1;33m)\u001b[0m\u001b[1;33m\u001b[0m\u001b[1;33m\u001b[0m\u001b[0m\n\u001b[0;32m     91\u001b[0m             \u001b[1;32melse\u001b[0m\u001b[1;33m:\u001b[0m\u001b[1;33m\u001b[0m\u001b[1;33m\u001b[0m\u001b[0m\n\u001b[1;32m---> 92\u001b[1;33m                 \u001b[0mnorm_ip\u001b[0m\u001b[1;33m(\u001b[0m\u001b[0mt\u001b[0m\u001b[1;33m,\u001b[0m \u001b[0mfloat\u001b[0m\u001b[1;33m(\u001b[0m\u001b[0mt\u001b[0m\u001b[1;33m.\u001b[0m\u001b[0mmin\u001b[0m\u001b[1;33m(\u001b[0m\u001b[1;33m)\u001b[0m\u001b[1;33m)\u001b[0m\u001b[1;33m,\u001b[0m \u001b[0mfloat\u001b[0m\u001b[1;33m(\u001b[0m\u001b[0mt\u001b[0m\u001b[1;33m.\u001b[0m\u001b[0mmax\u001b[0m\u001b[1;33m(\u001b[0m\u001b[1;33m)\u001b[0m\u001b[1;33m)\u001b[0m\u001b[1;33m)\u001b[0m\u001b[1;33m\u001b[0m\u001b[1;33m\u001b[0m\u001b[0m\n\u001b[0m\u001b[0;32m     93\u001b[0m \u001b[1;33m\u001b[0m\u001b[0m\n\u001b[0;32m     94\u001b[0m         \u001b[1;32mif\u001b[0m \u001b[0mscale_each\u001b[0m \u001b[1;32mis\u001b[0m \u001b[1;32mTrue\u001b[0m\u001b[1;33m:\u001b[0m\u001b[1;33m\u001b[0m\u001b[1;33m\u001b[0m\u001b[0m\n",
      "\u001b[1;31mKeyboardInterrupt\u001b[0m: "
     ]
    }
   ],
   "source": [
    "print(\"Started training!!!\")\n",
    "for epoch in range(params['epochs']):\n",
    "    for batch_indx, (data, target) in enumerate(dataloader):\n",
    "        data = data.to(device)\n",
    "        batch_size = data.shape[0]\n",
    "\n",
    "        ## Train Discriminator: max log(D(x)) + log(1-D(G(z)))\n",
    "        disc.zero_grad()\n",
    "        # 1) Counting for log(D(x)) for this loss(data, labels) \n",
    "        disc_real = disc(data).reshape(-1)\n",
    "        labels_real  = (torch.ones(batch_size)*0.9).to(device)\n",
    "        loss_real = criterion(disc_real,labels_real)\n",
    "        D_x = disc_real.mean().item()\n",
    "\n",
    "        # 2) Counting for max of log(1-D(G(z)))\n",
    "        noise = torch.randn(batch_size, params['channels_noise'], 1, 1).to(device)\n",
    "        genFake = gen(noise)    # output -> batch_size x 3 x 64 x 64\n",
    "        label_fake = (torch.ones(batch_size)*0.1).to(device)\n",
    "\n",
    "        discFake = disc(genFake.detach()).reshape(-1)    # output -> batch_size x channels x 1 x 1 and after reshape [multiply all of them value]\n",
    "        loss_fake = criterion(discFake, label_fake)\n",
    "\n",
    "        lossD = loss_real + loss_fake \n",
    "        lossD.backward()\n",
    "        optmDisc.step()\n",
    "\n",
    "        ## Train Generator: min log(D(G(z)))\n",
    "        gen.zero_grad()\n",
    "        labelsGenFake = torch.ones(batch_size).to(device)\n",
    "        output = disc(genFake).reshape(-1)\n",
    "        lossGen = criterion(output, labelsGenFake)\n",
    "        lossGen.backward()\n",
    "        optmGen.step()\n",
    "\n",
    "        with torch.no_grad():\n",
    "            fake = gen(fixed_noise)\n",
    "            imgGridReal = torchvision.utils.make_grid(data[:32], normalize=True)\n",
    "            imgGridFake = torchvision.utils.make_grid(fake[:32], normalize=True)\n",
    "            \n",
    "        # if batch_indx % 100 == 0:\n",
    "        #     print(f'Epoch[{epoch}]')\n",
    "\n",
    "    print(\"Epoch Num: \", epoch)\n",
    "\n",
    "\n"
   ]
  },
  {
   "cell_type": "code",
   "execution_count": null,
   "id": "8f92d243",
   "metadata": {},
   "outputs": [],
   "source": []
  }
 ],
 "metadata": {
  "kernelspec": {
   "display_name": "nlp",
   "language": "python",
   "name": "python3"
  },
  "language_info": {
   "codemirror_mode": {
    "name": "ipython",
    "version": 3
   },
   "file_extension": ".py",
   "mimetype": "text/x-python",
   "name": "python",
   "nbconvert_exporter": "python",
   "pygments_lexer": "ipython3",
   "version": "3.9.0"
  },
  "vscode": {
   "interpreter": {
    "hash": "0749d5426b9e6785037b2846a895c40d2bcd010367e9f51a7d109a7ceebc2c3c"
   }
  }
 },
 "nbformat": 4,
 "nbformat_minor": 5
}
